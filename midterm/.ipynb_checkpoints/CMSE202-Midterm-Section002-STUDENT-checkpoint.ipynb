{
 "cells": [
  {
   "cell_type": "markdown",
   "metadata": {},
   "source": [
    "## <p style=\"text-align: right;\"> &#9989; Patrick Culliton</p>"
   ]
  },
  {
   "cell_type": "markdown",
   "metadata": {},
   "source": [
    "# CMSE 202 Midterm - Section 002 - Spring 2024 (80 points total)\n",
    "\n",
    "The goal of this midterm is to give you the opportunity to test out some of the skills that you've developed thus far this semester. In particular, you'll practice setting up a GitHub repository, committing and pushing repository changes, downloading data with command line tools, performing some data analysis, possibly using a new Python package, and writing a python class. You should find that you have all of the skills necessary to complete this exam with even just eight weeks of CMSE 202 under your belt!\n",
    "\n",
    "You are encouraged to look through the entire exam before you get started so that you can appropriately budget your time and understand the broad goals of the exam. Once you've read through it, try doing Parts 0 and 1 first so that you have your repository set up and you download all necessary data files as they will be necessary to complete the assigned tasks. Let your instructor know right away if you have problems downloading the data!\n",
    "\n",
    "The exam is set up so that even if you get stuck on one part there are opportunities to get points on the other parts, so consider jumping ahead if you feel like you aren't making progress and then come back later if you have time. If you have any questions during the exam, you may ask the instructor, the TA, or the LA privately: simply raise your hand and one of us will come over to you. \n",
    "\n",
    "\n",
    "**Important note about using online resources**: This exam is \"open internet\". That means that you can look up documentation, google how to accomplish certain Python tasks, etc. Being able to effectively use the internet for computational modeling and data science is a very important skill, so we want to make sure you have the opportunity to exercise that skill. **However: The use of any person-to-person communication software or generative AI tools is absolutely not acceptable.** If you are seen accessing your email, using a collaborative cloud storage or document software (e.g. Slack, Google Documents), or generative AIs (e.g. ChatGPT), you will be at risk for receiving a zero on the exam.\n",
    "\n",
    "**Keep your eyes on your screen!** Unfortunately, there isn't enough space in the room for everyone to sit at their own table so please do your best to keep your eyes on your own screen. This exam is designed to give *you* the opportunity to show the instructor what you can do and you should hold yourself accountable for maintaining a high level of academic integrity. If any of the instructors observe suspicious behavior, you will, again, risk receiving a zero."
   ]
  },
  {
   "cell_type": "markdown",
   "metadata": {},
   "source": [
    "---\n",
    "## Part 0: Academic integrity statement\n",
    "\n",
    "Read the following statement and edit the markdown text to put your name in the statement. This is your commitment to doing your own authentic work on this exam."
   ]
  },
  {
   "cell_type": "markdown",
   "metadata": {},
   "source": [
    "> I, **INSERT NAME HERE**, affirm that this exam represents my own authetic work, without the use of any unpermitted aids or generative AIs or person-to-person communication. I understand that this exam an an opportunity to showcase my own progress in developing and improving my computational skills and have done my best to demonstrate those skills."
   ]
  },
  {
   "cell_type": "markdown",
   "metadata": {
    "jp-MarkdownHeadingCollapsed": true
   },
   "source": [
    "## Part 1: Add to your Git repository to track your progress on your exam (12 points total)\n",
    "\n",
    "Before you get to far along in the exam, you're going to add it to the `cmse202-s24-turnin` repository you created in class (or in Homework 1) so that you can track your progress on the exam and preserve the final version that you turn in. In order to do this you need to\n",
    "\n",
    "1. Navigate to your `cmse202-s24-turnin` repository and create a new directory called `midterm`.\n",
    "2. Move this notebook into that **new directory** in your repository, then **add it and commit it to your repository**.\n",
    "3. Finally, to test that everything is working, \"git push\" the file so that it ends up in your GitHub repository.\n",
    "\n",
    "**Important**: Double check you've added your Professor and your TA as collaborators to your \"turnin\" respository (you should have done this in the previous homework assignment).\n",
    "\n",
    "**Important**: Make sure that the version of this notebook that you are working on is the same one that you just added to your repository! If you are working on a different copy of the noteobok, **none of your changes will be tracked**!\n",
    "\n",
    "The file should now show up on your GitHub account in the `cmse202-s24-turnin` repository inside the `midterm` directory you just created.  Periodically, **you'll be asked to commit your changes to the repository and push them to the remote GitHub location**. It can be good to get into a habit of committing your changes any time you make a significant modification.\n",
    "\n",
    "&#9989; **Do this**: Before you move on, put the command that your instructor should run to clone your repository in the markdown cell below."
   ]
  },
  {
   "cell_type": "markdown",
   "metadata": {},
   "source": [
    "``` bash\n",
    "# Put the command for cloning your repository here!\n",
    "\n",
    "```"
   ]
  },
  {
   "cell_type": "markdown",
   "metadata": {},
   "source": [
    "---\n",
    "## Part 2: Downloading and analyzing unfamiliar data (25 points)"
   ]
  },
  {
   "cell_type": "markdown",
   "metadata": {},
   "source": [
    "In this part of the exam, you will use load and visualize a dataset that you probably have not used before. In particular, you will be working with data on several LEGO sets. Some information about the dataset can be found here https://www.kaggle.com/datasets/rtatman/lego-database.\n",
    "\n",
    "To get started, you will need to download the file - `lego.csv` from this link:\n",
    "* `https://raw.githubusercontent.com/skarnik1337/cmse202sec002s24midterm/main/lego.csv`\n",
    "\n",
    "The file is also on D2L. Note that this file is different than the one on Kaggle in that a few columns have been removed to reduce the filesize by 60%."
   ]
  },
  {
   "cell_type": "code",
   "execution_count": 1,
   "metadata": {},
   "outputs": [
    {
     "name": "stdout",
     "output_type": "stream",
     "text": [
      "  % Total    % Received % Xferd  Average Speed   Time    Time     Time  Current\n",
      "                                 Dload  Upload   Total   Spent    Left  Speed\n",
      "100 1518k  100 1518k    0     0  6003k      0 --:--:-- --:--:-- --:--:-- 6003k\n"
     ]
    }
   ],
   "source": [
    "import pandas as pd\n",
    "import numpy as np\n",
    "import matplotlib.pyplot as plt\n",
    "!curl -o 'lego.csv' https://raw.githubusercontent.com/skarnik1337/cmse202sec002s24midterm/main/lego.csv\n",
    "lego = pd.read_csv('lego.csv')"
   ]
  },
  {
   "cell_type": "code",
   "execution_count": 2,
   "metadata": {},
   "outputs": [],
   "source": [
    "lego = pd.read_csv('lego.csv')"
   ]
  },
  {
   "cell_type": "code",
   "execution_count": 3,
   "metadata": {},
   "outputs": [
    {
     "data": {
      "text/html": [
       "<div>\n",
       "<style scoped>\n",
       "    .dataframe tbody tr th:only-of-type {\n",
       "        vertical-align: middle;\n",
       "    }\n",
       "\n",
       "    .dataframe tbody tr th {\n",
       "        vertical-align: top;\n",
       "    }\n",
       "\n",
       "    .dataframe thead th {\n",
       "        text-align: right;\n",
       "    }\n",
       "</style>\n",
       "<table border=\"1\" class=\"dataframe\">\n",
       "  <thead>\n",
       "    <tr style=\"text-align: right;\">\n",
       "      <th></th>\n",
       "      <th>set_id</th>\n",
       "      <th>name</th>\n",
       "      <th>year</th>\n",
       "      <th>theme</th>\n",
       "      <th>subtheme</th>\n",
       "      <th>themeGroup</th>\n",
       "      <th>category</th>\n",
       "      <th>pieces</th>\n",
       "      <th>minifigs</th>\n",
       "      <th>agerange_min</th>\n",
       "      <th>US_retailPrice</th>\n",
       "    </tr>\n",
       "  </thead>\n",
       "  <tbody>\n",
       "    <tr>\n",
       "      <th>0</th>\n",
       "      <td>1-8</td>\n",
       "      <td>Small house set</td>\n",
       "      <td>1970</td>\n",
       "      <td>Minitalia</td>\n",
       "      <td>NaN</td>\n",
       "      <td>Vintage</td>\n",
       "      <td>Normal</td>\n",
       "      <td>67.0</td>\n",
       "      <td>NaN</td>\n",
       "      <td>NaN</td>\n",
       "      <td>NaN</td>\n",
       "    </tr>\n",
       "    <tr>\n",
       "      <th>1</th>\n",
       "      <td>2-8</td>\n",
       "      <td>Medium house set</td>\n",
       "      <td>1970</td>\n",
       "      <td>Minitalia</td>\n",
       "      <td>NaN</td>\n",
       "      <td>Vintage</td>\n",
       "      <td>Normal</td>\n",
       "      <td>109.0</td>\n",
       "      <td>NaN</td>\n",
       "      <td>NaN</td>\n",
       "      <td>NaN</td>\n",
       "    </tr>\n",
       "    <tr>\n",
       "      <th>2</th>\n",
       "      <td>3-6</td>\n",
       "      <td>Medium house set</td>\n",
       "      <td>1970</td>\n",
       "      <td>Minitalia</td>\n",
       "      <td>NaN</td>\n",
       "      <td>Vintage</td>\n",
       "      <td>Normal</td>\n",
       "      <td>158.0</td>\n",
       "      <td>NaN</td>\n",
       "      <td>NaN</td>\n",
       "      <td>NaN</td>\n",
       "    </tr>\n",
       "    <tr>\n",
       "      <th>3</th>\n",
       "      <td>4-4</td>\n",
       "      <td>Large house set</td>\n",
       "      <td>1970</td>\n",
       "      <td>Minitalia</td>\n",
       "      <td>NaN</td>\n",
       "      <td>Vintage</td>\n",
       "      <td>Normal</td>\n",
       "      <td>233.0</td>\n",
       "      <td>NaN</td>\n",
       "      <td>NaN</td>\n",
       "      <td>NaN</td>\n",
       "    </tr>\n",
       "    <tr>\n",
       "      <th>4</th>\n",
       "      <td>4-6</td>\n",
       "      <td>Mini House and Vehicles</td>\n",
       "      <td>1970</td>\n",
       "      <td>Samsonite</td>\n",
       "      <td>Model Maker</td>\n",
       "      <td>Vintage</td>\n",
       "      <td>Normal</td>\n",
       "      <td>NaN</td>\n",
       "      <td>NaN</td>\n",
       "      <td>NaN</td>\n",
       "      <td>NaN</td>\n",
       "    </tr>\n",
       "  </tbody>\n",
       "</table>\n",
       "</div>"
      ],
      "text/plain": [
       "  set_id                     name  year      theme     subtheme themeGroup  \\\n",
       "0    1-8          Small house set  1970  Minitalia          NaN    Vintage   \n",
       "1    2-8         Medium house set  1970  Minitalia          NaN    Vintage   \n",
       "2    3-6         Medium house set  1970  Minitalia          NaN    Vintage   \n",
       "3    4-4          Large house set  1970  Minitalia          NaN    Vintage   \n",
       "4    4-6  Mini House and Vehicles  1970  Samsonite  Model Maker    Vintage   \n",
       "\n",
       "  category  pieces  minifigs  agerange_min  US_retailPrice  \n",
       "0   Normal    67.0       NaN           NaN             NaN  \n",
       "1   Normal   109.0       NaN           NaN             NaN  \n",
       "2   Normal   158.0       NaN           NaN             NaN  \n",
       "3   Normal   233.0       NaN           NaN             NaN  \n",
       "4   Normal     NaN       NaN           NaN             NaN  "
      ]
     },
     "execution_count": 3,
     "metadata": {},
     "output_type": "execute_result"
    }
   ],
   "source": [
    "lego.head()"
   ]
  },
  {
   "cell_type": "markdown",
   "metadata": {},
   "source": [
    "&#9989; **Question 2.1 (1 point)**: **Do this now:** Save this file in the same directory as your notebook so you can load it directly. **Then, in the cell below, put the command line command(s) you used to download the files.** If you did not use a command line tool to download the files, write down the command(s) that *would* have downloaded the files."
   ]
  },
  {
   "cell_type": "markdown",
   "metadata": {},
   "source": [
    "``` bash\n",
    "# Put the command(s) you used for downloading the lego.csv file here!\n",
    "!curl -o 'lego.csv' https://raw.githubusercontent.com/skarnik1337/cmse202sec002s24midterm/main/lego.csv\n",
    "```"
   ]
  },
  {
   "cell_type": "markdown",
   "metadata": {},
   "source": [
    "&#9989; **Question 2.2 (2 points)**: Read in the `lego.csv` dataset into a `Pandas` `DataFrame` and then display the first few rows and the last few rows. Note that this csv file already has column headers in the first row."
   ]
  },
  {
   "cell_type": "code",
   "execution_count": 4,
   "metadata": {},
   "outputs": [
    {
     "data": {
      "text/html": [
       "<div>\n",
       "<style scoped>\n",
       "    .dataframe tbody tr th:only-of-type {\n",
       "        vertical-align: middle;\n",
       "    }\n",
       "\n",
       "    .dataframe tbody tr th {\n",
       "        vertical-align: top;\n",
       "    }\n",
       "\n",
       "    .dataframe thead th {\n",
       "        text-align: right;\n",
       "    }\n",
       "</style>\n",
       "<table border=\"1\" class=\"dataframe\">\n",
       "  <thead>\n",
       "    <tr style=\"text-align: right;\">\n",
       "      <th></th>\n",
       "      <th>set_id</th>\n",
       "      <th>name</th>\n",
       "      <th>year</th>\n",
       "      <th>theme</th>\n",
       "      <th>subtheme</th>\n",
       "      <th>themeGroup</th>\n",
       "      <th>category</th>\n",
       "      <th>pieces</th>\n",
       "      <th>minifigs</th>\n",
       "      <th>agerange_min</th>\n",
       "      <th>US_retailPrice</th>\n",
       "    </tr>\n",
       "  </thead>\n",
       "  <tbody>\n",
       "    <tr>\n",
       "      <th>0</th>\n",
       "      <td>1-8</td>\n",
       "      <td>Small house set</td>\n",
       "      <td>1970</td>\n",
       "      <td>Minitalia</td>\n",
       "      <td>NaN</td>\n",
       "      <td>Vintage</td>\n",
       "      <td>Normal</td>\n",
       "      <td>67.0</td>\n",
       "      <td>NaN</td>\n",
       "      <td>NaN</td>\n",
       "      <td>NaN</td>\n",
       "    </tr>\n",
       "    <tr>\n",
       "      <th>1</th>\n",
       "      <td>2-8</td>\n",
       "      <td>Medium house set</td>\n",
       "      <td>1970</td>\n",
       "      <td>Minitalia</td>\n",
       "      <td>NaN</td>\n",
       "      <td>Vintage</td>\n",
       "      <td>Normal</td>\n",
       "      <td>109.0</td>\n",
       "      <td>NaN</td>\n",
       "      <td>NaN</td>\n",
       "      <td>NaN</td>\n",
       "    </tr>\n",
       "    <tr>\n",
       "      <th>2</th>\n",
       "      <td>3-6</td>\n",
       "      <td>Medium house set</td>\n",
       "      <td>1970</td>\n",
       "      <td>Minitalia</td>\n",
       "      <td>NaN</td>\n",
       "      <td>Vintage</td>\n",
       "      <td>Normal</td>\n",
       "      <td>158.0</td>\n",
       "      <td>NaN</td>\n",
       "      <td>NaN</td>\n",
       "      <td>NaN</td>\n",
       "    </tr>\n",
       "    <tr>\n",
       "      <th>3</th>\n",
       "      <td>4-4</td>\n",
       "      <td>Large house set</td>\n",
       "      <td>1970</td>\n",
       "      <td>Minitalia</td>\n",
       "      <td>NaN</td>\n",
       "      <td>Vintage</td>\n",
       "      <td>Normal</td>\n",
       "      <td>233.0</td>\n",
       "      <td>NaN</td>\n",
       "      <td>NaN</td>\n",
       "      <td>NaN</td>\n",
       "    </tr>\n",
       "    <tr>\n",
       "      <th>4</th>\n",
       "      <td>4-6</td>\n",
       "      <td>Mini House and Vehicles</td>\n",
       "      <td>1970</td>\n",
       "      <td>Samsonite</td>\n",
       "      <td>Model Maker</td>\n",
       "      <td>Vintage</td>\n",
       "      <td>Normal</td>\n",
       "      <td>NaN</td>\n",
       "      <td>NaN</td>\n",
       "      <td>NaN</td>\n",
       "      <td>NaN</td>\n",
       "    </tr>\n",
       "    <tr>\n",
       "      <th>...</th>\n",
       "      <td>...</td>\n",
       "      <td>...</td>\n",
       "      <td>...</td>\n",
       "      <td>...</td>\n",
       "      <td>...</td>\n",
       "      <td>...</td>\n",
       "      <td>...</td>\n",
       "      <td>...</td>\n",
       "      <td>...</td>\n",
       "      <td>...</td>\n",
       "      <td>...</td>\n",
       "    </tr>\n",
       "    <tr>\n",
       "      <th>18452</th>\n",
       "      <td>SHUTTLE-1</td>\n",
       "      <td>Space Shuttle</td>\n",
       "      <td>2022</td>\n",
       "      <td>Promotional</td>\n",
       "      <td>LEGO brand stores</td>\n",
       "      <td>Miscellaneous</td>\n",
       "      <td>Other</td>\n",
       "      <td>NaN</td>\n",
       "      <td>NaN</td>\n",
       "      <td>NaN</td>\n",
       "      <td>NaN</td>\n",
       "    </tr>\n",
       "    <tr>\n",
       "      <th>18453</th>\n",
       "      <td>SLSDUCK-1</td>\n",
       "      <td>SLS Duck</td>\n",
       "      <td>2022</td>\n",
       "      <td>Promotional</td>\n",
       "      <td>LEGO House</td>\n",
       "      <td>Miscellaneous</td>\n",
       "      <td>Other</td>\n",
       "      <td>1.0</td>\n",
       "      <td>NaN</td>\n",
       "      <td>NaN</td>\n",
       "      <td>NaN</td>\n",
       "    </tr>\n",
       "    <tr>\n",
       "      <th>18454</th>\n",
       "      <td>SUMMERWAVE-1</td>\n",
       "      <td>Summer Wave</td>\n",
       "      <td>2022</td>\n",
       "      <td>Promotional</td>\n",
       "      <td>LEGO Brand Stores</td>\n",
       "      <td>Miscellaneous</td>\n",
       "      <td>Other</td>\n",
       "      <td>39.0</td>\n",
       "      <td>NaN</td>\n",
       "      <td>7.0</td>\n",
       "      <td>NaN</td>\n",
       "    </tr>\n",
       "    <tr>\n",
       "      <th>18455</th>\n",
       "      <td>TRUSPIDERMAN-1</td>\n",
       "      <td>Spider-Man</td>\n",
       "      <td>2022</td>\n",
       "      <td>Marvel Super Heroes</td>\n",
       "      <td>Spider-Man</td>\n",
       "      <td>Licensed</td>\n",
       "      <td>Other</td>\n",
       "      <td>43.0</td>\n",
       "      <td>NaN</td>\n",
       "      <td>NaN</td>\n",
       "      <td>NaN</td>\n",
       "    </tr>\n",
       "    <tr>\n",
       "      <th>18456</th>\n",
       "      <td>YOTT-1</td>\n",
       "      <td>Tiger</td>\n",
       "      <td>2022</td>\n",
       "      <td>Miscellaneous</td>\n",
       "      <td>NaN</td>\n",
       "      <td>Miscellaneous</td>\n",
       "      <td>Other</td>\n",
       "      <td>NaN</td>\n",
       "      <td>NaN</td>\n",
       "      <td>NaN</td>\n",
       "      <td>NaN</td>\n",
       "    </tr>\n",
       "  </tbody>\n",
       "</table>\n",
       "<p>18457 rows × 11 columns</p>\n",
       "</div>"
      ],
      "text/plain": [
       "               set_id                     name  year                theme  \\\n",
       "0                 1-8          Small house set  1970            Minitalia   \n",
       "1                 2-8         Medium house set  1970            Minitalia   \n",
       "2                 3-6         Medium house set  1970            Minitalia   \n",
       "3                 4-4          Large house set  1970            Minitalia   \n",
       "4                 4-6  Mini House and Vehicles  1970            Samsonite   \n",
       "...               ...                      ...   ...                  ...   \n",
       "18452       SHUTTLE-1            Space Shuttle  2022          Promotional   \n",
       "18453       SLSDUCK-1                 SLS Duck  2022          Promotional   \n",
       "18454    SUMMERWAVE-1              Summer Wave  2022          Promotional   \n",
       "18455  TRUSPIDERMAN-1               Spider-Man  2022  Marvel Super Heroes   \n",
       "18456          YOTT-1                    Tiger  2022        Miscellaneous   \n",
       "\n",
       "                subtheme     themeGroup category  pieces  minifigs  \\\n",
       "0                    NaN        Vintage   Normal    67.0       NaN   \n",
       "1                    NaN        Vintage   Normal   109.0       NaN   \n",
       "2                    NaN        Vintage   Normal   158.0       NaN   \n",
       "3                    NaN        Vintage   Normal   233.0       NaN   \n",
       "4            Model Maker        Vintage   Normal     NaN       NaN   \n",
       "...                  ...            ...      ...     ...       ...   \n",
       "18452  LEGO brand stores  Miscellaneous    Other     NaN       NaN   \n",
       "18453         LEGO House  Miscellaneous    Other     1.0       NaN   \n",
       "18454  LEGO Brand Stores  Miscellaneous    Other    39.0       NaN   \n",
       "18455         Spider-Man       Licensed    Other    43.0       NaN   \n",
       "18456                NaN  Miscellaneous    Other     NaN       NaN   \n",
       "\n",
       "       agerange_min  US_retailPrice  \n",
       "0               NaN             NaN  \n",
       "1               NaN             NaN  \n",
       "2               NaN             NaN  \n",
       "3               NaN             NaN  \n",
       "4               NaN             NaN  \n",
       "...             ...             ...  \n",
       "18452           NaN             NaN  \n",
       "18453           NaN             NaN  \n",
       "18454           7.0             NaN  \n",
       "18455           NaN             NaN  \n",
       "18456           NaN             NaN  \n",
       "\n",
       "[18457 rows x 11 columns]"
      ]
     },
     "execution_count": 4,
     "metadata": {},
     "output_type": "execute_result"
    }
   ],
   "source": [
    "# Put your code for Question 2.2 here\n",
    "lego = pd.read_csv('lego.csv')\n",
    "lego"
   ]
  },
  {
   "cell_type": "markdown",
   "metadata": {},
   "source": [
    "### Yes, there are a lot of `NaN` values in this dataset. For Questions 2.3 and 2.4, leave all the rows in the `DataFrame`, even if they have `NaN` vaues. \n",
    "\n",
    "&#9989; **Question 2.3 (9 points total)**: For each of the five questions below, write a **short** amount of code to answer the question. **Note that you must use code to figure out the answer. Viewing part or all of dataframe and manually observing/counting to get the answer will not receive full credit.**"
   ]
  },
  {
   "cell_type": "markdown",
   "metadata": {},
   "source": [
    "&#9989; **Question 2.3.1 (1 point)**: How many LEGO sets/rows are in this dataset?"
   ]
  },
  {
   "cell_type": "code",
   "execution_count": 5,
   "metadata": {},
   "outputs": [
    {
     "ename": "SyntaxError",
     "evalue": "invalid syntax (3952828526.py, line 2)",
     "output_type": "error",
     "traceback": [
      "\u001b[0;36m  Cell \u001b[0;32mIn[5], line 2\u001b[0;36m\u001b[0m\n\u001b[0;31m    18457 rows\u001b[0m\n\u001b[0m          ^\u001b[0m\n\u001b[0;31mSyntaxError\u001b[0m\u001b[0;31m:\u001b[0m invalid syntax\n"
     ]
    }
   ],
   "source": [
    "# Put your code for Question 2.3.1 here\n",
    "18457 rows"
   ]
  },
  {
   "cell_type": "markdown",
   "metadata": {},
   "source": [
    "&#9989; **Question 2.3.2 (1 point)**: How many fields/features/columns does this dataset have?"
   ]
  },
  {
   "cell_type": "code",
   "execution_count": null,
   "metadata": {},
   "outputs": [],
   "source": [
    "# Put your code for Question 2.3.2 here\n",
    "11"
   ]
  },
  {
   "cell_type": "markdown",
   "metadata": {},
   "source": [
    "&#9989; **Question 2.3.3 (1 point)**: What are all the unique categories of LEGO sets in this dataset? Your code's output should not list any category twice."
   ]
  },
  {
   "cell_type": "code",
   "execution_count": null,
   "metadata": {},
   "outputs": [],
   "source": [
    "# Put your code for Question 2.3.3 here\n",
    "for i in lego.columns:\n",
    "    print(i)"
   ]
  },
  {
   "cell_type": "markdown",
   "metadata": {},
   "source": [
    "&#9989; **Question 2.3.4 (1 point)**: How many unique themes of LEGO sets are in this dataset?"
   ]
  },
  {
   "cell_type": "code",
   "execution_count": null,
   "metadata": {},
   "outputs": [],
   "source": [
    "# Put your code for Question 2.3.4 here\n",
    "theme_list = []\n",
    "for i in lego['theme']:\n",
    "    if i not in theme_list:\n",
    "        theme_list.append(i)\n",
    "len(theme_list)"
   ]
  },
  {
   "cell_type": "markdown",
   "metadata": {},
   "source": [
    "&#9989; **Question 2.3.5 (1 points)**: What is the greatest number of pieces of a LEGO set in this dataset?"
   ]
  },
  {
   "cell_type": "code",
   "execution_count": null,
   "metadata": {},
   "outputs": [],
   "source": [
    "# Put your code for Question 2.3.5 here\n",
    "max_pieces = 0\n",
    "for i in lego['pieces']:\n",
    "    if i > max_pieces:\n",
    "        max_pieces = i\n",
    "print(max_pieces)\n",
    "lego['pieces'].max()"
   ]
  },
  {
   "cell_type": "markdown",
   "metadata": {},
   "source": [
    "&#9989; **Question 2.3.6 (2 points)**: What is the name of the LEGO set in this dataset with the highest US retail price? Note that we want the **name** of the set, not its price. If multiple LEGO sets are tied for the highest US retail price, you can just name just one of them or all of them (whichever is easier for you)."
   ]
  },
  {
   "cell_type": "code",
   "execution_count": null,
   "metadata": {},
   "outputs": [],
   "source": [
    "# Put your code for Question 2.3.6 here\n",
    "lego['US_retailPrice'].max()\n",
    "#from https://saturncloud.io/blog/how-to-get-the-index-of-a-row-in-a-pandas-dataframe-as-an-integer/#:~:text=The%20iloc%20method%20allows%20you,on%20the%20resulting%20DataFrame%20slice.\n",
    "row_index = lego.index[lego['US_retailPrice'] == 849.99].tolist()\n",
    "print(row_index)\n",
    "print(lego['set_id'].iloc[13651])"
   ]
  },
  {
   "cell_type": "markdown",
   "metadata": {},
   "source": [
    "&#9989; **Question 2.3.7 (2 points)**: According to this dataset, what was the latest year in which a LEGO set with a themeGroup of 'Vintage' was produced?"
   ]
  },
  {
   "cell_type": "code",
   "execution_count": null,
   "metadata": {},
   "outputs": [],
   "source": [
    "# Put your code for Question 2.3.7 here\n",
    "most_recent_year = 0\n",
    "counter = 0\n",
    "index = 0\n",
    "for i in lego['themeGroup']:\n",
    "    if i == 'Vintage':\n",
    "        index = counter\n",
    "    counter += 1\n",
    "print(lego['year'].iloc[index])"
   ]
  },
  {
   "cell_type": "markdown",
   "metadata": {},
   "source": [
    "**Reminder**: If you are having trouble with parts of Question 2.3, don't forget that you can use your favorite search engine to lookup how to do certain tasks with a `Pandas` `DataFrame`."
   ]
  },
  {
   "cell_type": "markdown",
   "metadata": {},
   "source": [
    "Now that you are more acquainted with the LEGO sets data in your `DataFrame`, let's start making some visualizations of this data.\n",
    "\n",
    "&#9989; **Question 2.4 (4 points)**: Make a histogram showing the number of LEGO sets produced each year. **Set the bins of the histogram so that there is one bin for each year.** There are 53 years between 1970 and 2022 inclusive. Also, make sure to label your axes and give your plot a title."
   ]
  },
  {
   "cell_type": "code",
   "execution_count": null,
   "metadata": {},
   "outputs": [],
   "source": [
    "1+1"
   ]
  },
  {
   "cell_type": "code",
   "execution_count": null,
   "metadata": {},
   "outputs": [],
   "source": [
    "# Put your code for Question 2.4 here\n",
    "plt.hist(lego['year'], bins = 53)\n",
    "plt.xlabel('Years')\n",
    "plt.ylabel('Count')\n",
    "plt.title('Number of sets produced each year')"
   ]
  },
  {
   "cell_type": "markdown",
   "metadata": {},
   "source": [
    "&#9989; **Question 2.5 (2 points)**: Now, create a **new dataframe** which contains only the rows of the dataframe without any `NaN` values. Be sure to store it in a new variable instead of overwriting the previous variable. In particular, this will prevent you from getting different answers if you rerun some of the cells above. Display the first few rows and the last few rows to visually check that the `NaN` values were indeed dropped."
   ]
  },
  {
   "cell_type": "code",
   "execution_count": null,
   "metadata": {},
   "outputs": [],
   "source": [
    "# Put your code for Question 2.5 here\n",
    "#https://www.tutorialspoint.com/drop-rows-from-pandas-dataframe-with-missing-values-or-nan-in-columns#:~:text=Using%20dropna()%20Function%20to,containing%20any%20%E2%80%9CNaN%E2%80%9D%20value.\n",
    "newlego = lego.dropna()\n",
    "newlego.head()"
   ]
  },
  {
   "cell_type": "markdown",
   "metadata": {},
   "source": [
    "### For Questions 2.6 and 2.7, use just this new `DataFrame` which dropped the rows with `NaN` values.\n",
    "\n",
    "&#9989; **Question 2.6 (3 points)**: Make a scatterplot showing the number of pieces on the x-axis and the US retail price on the y-axis. **Again, make sure to label your axes and give your plot a title.**"
   ]
  },
  {
   "cell_type": "code",
   "execution_count": null,
   "metadata": {},
   "outputs": [],
   "source": [
    "# Put your code for Question 2.6 here\n",
    "plt.scatter(lego['pieces'],lego['US_retailPrice'])\n",
    "plt.xlabel('Number of Pieces in each set')\n",
    "plt.ylabel('Retail Price in the US')\n",
    "plt.title('Number of Lego pieces in a set vs. Price')"
   ]
  },
  {
   "cell_type": "markdown",
   "metadata": {},
   "source": [
    "&#9989; **Question 2.7 (2 points)**: Describe the general relationship between the US retail price and the number of pieces of LEGO sets? Briefly explain why this relationship makes sense."
   ]
  },
  {
   "cell_type": "markdown",
   "metadata": {},
   "source": [
    "**<font size=+3>&#9998;</font> Do This**: there is a pretty positive correlation. This makes sense because as the number of pieces increases, sets become more expensive to produce"
   ]
  },
  {
   "cell_type": "markdown",
   "metadata": {},
   "source": [
    "&#9989; **Question 2.8 (2 points)**: Suppose we wanted to look at the relationships between every pair of numerical features. What specific Python/Pandas fucntion(s)/tool(s) could you use to do this efficiently, i.e., without writing for loops or manually making a figure for every pair of numerical features? Note that you do not need to actually make a figure for this, just stating which function(s)/tool(s) you'd use is sufficient."
   ]
  },
  {
   "cell_type": "markdown",
   "metadata": {},
   "source": [
    "**<font size=+3>&#9998;</font> Do This**: we could us heatmaps or a correlation matrix"
   ]
  },
  {
   "cell_type": "markdown",
   "metadata": {},
   "source": [
    "---\n",
    "### &#128721; STOP\n",
    "**Pause to commit your changes to your Git repository!**\n",
    "\n",
    "Take a moment to save your notebook, commit the changes to your Git repository using the commit message \"**Committing Part 2**\", and push the changes to GitHub.\n",
    "\n",
    "---"
   ]
  },
  {
   "cell_type": "markdown",
   "metadata": {},
   "source": [
    "---\n",
    "## Part 3: Working with a new Python package (16 points)"
   ]
  },
  {
   "cell_type": "markdown",
   "metadata": {},
   "source": [
    "In this part of the exam, you will install a Python package that you probably have not used before, and use it to perform a simple task. Specifically, you will use a package called `Faker` to perform some tasks that involve generating different types of fake data. The documentation and some example code can be found at https://faker.readthedocs.io/en/master/."
   ]
  },
  {
   "cell_type": "code",
   "execution_count": 13,
   "metadata": {},
   "outputs": [
    {
     "name": "stdout",
     "output_type": "stream",
     "text": [
      "Defaulting to user installation because normal site-packages is not writeable\n",
      "Requirement already satisfied: faker in /home/cullito5/.local/lib/python3.11/site-packages (24.0.0)\n",
      "Requirement already satisfied: python-dateutil>=2.4 in /opt/miniconda3/lib/python3.11/site-packages (from faker) (2.8.2)\n",
      "Requirement already satisfied: six>=1.5 in /opt/miniconda3/lib/python3.11/site-packages (from python-dateutil>=2.4->faker) (1.16.0)\n"
     ]
    }
   ],
   "source": [
    "!pip install faker"
   ]
  },
  {
   "cell_type": "markdown",
   "metadata": {},
   "source": [
    "&#9989; **Question 3.1 (2 points)**: The `faker` package is probably not already installed on your machine. However, you should be able to install the package in the same way we have used previously to install Python packages.\n",
    "\n",
    "**Do this**: Install the `faker` Python package.\n",
    "\n",
    "What command did you use to install `faker`? **Include this command in the cell below.**"
   ]
  },
  {
   "cell_type": "markdown",
   "metadata": {},
   "source": [
    "``` bash\n",
    "# Put the command for installing `faker` here!\n",
    "!pip install faker\n",
    "```"
   ]
  },
  {
   "cell_type": "markdown",
   "metadata": {},
   "source": [
    "Once `faker` is installed, running the following cell should not result in an error message. **You might need to re-start your Jupyter kernel after installing the package for this to work.** (Once everything works, it should give you no output at all.)"
   ]
  },
  {
   "cell_type": "code",
   "execution_count": 20,
   "metadata": {},
   "outputs": [],
   "source": [
    "# Running this cell should just work and not yield any output if faker is installed and available\n",
    "from faker import Faker\n",
    "fake = Faker()"
   ]
  },
  {
   "cell_type": "markdown",
   "metadata": {},
   "source": [
    "&#9989; **Question 3.2 (5 points total)**: Using the `faker` package, do the following simple tasks. Each task should only require a very short amount of code, and the documentation should cover how to do it.\n",
    "\n",
    "&#9989; **Question 3.2.1 (1 point)**: Using the `faker` package, generate a fake name."
   ]
  },
  {
   "cell_type": "code",
   "execution_count": 21,
   "metadata": {},
   "outputs": [
    {
     "data": {
      "text/plain": [
       "'Madeline Johnson'"
      ]
     },
     "execution_count": 21,
     "metadata": {},
     "output_type": "execute_result"
    }
   ],
   "source": [
    "# Put your code for Question 3.2.1 here\n",
    "fake.name()"
   ]
  },
  {
   "cell_type": "markdown",
   "metadata": {},
   "source": [
    "&#9989; **Question 3.2.2 (1 point)**: Using the `faker` package, generate a fake mailing address."
   ]
  },
  {
   "cell_type": "code",
   "execution_count": 22,
   "metadata": {},
   "outputs": [
    {
     "data": {
      "text/plain": [
       "'7072 Martin Village\\nStevensstad, AL 73528'"
      ]
     },
     "execution_count": 22,
     "metadata": {},
     "output_type": "execute_result"
    }
   ],
   "source": [
    "# Put your code for Question 3.2.2 here\n",
    "fake.address()"
   ]
  },
  {
   "cell_type": "markdown",
   "metadata": {},
   "source": [
    "&#9989; **Question 3.2.3 (1 point)**: Using the `faker` package, generate a fake email address."
   ]
  },
  {
   "cell_type": "code",
   "execution_count": 23,
   "metadata": {},
   "outputs": [
    {
     "data": {
      "text/plain": [
       "'anthonykelley@example.org'"
      ]
     },
     "execution_count": 23,
     "metadata": {},
     "output_type": "execute_result"
    }
   ],
   "source": [
    "# Put your code for Question 3.2.3 here\n",
    "fake.email()"
   ]
  },
  {
   "cell_type": "markdown",
   "metadata": {},
   "source": [
    "&#9989; **Question 3.2.4 (1 point)**: Using the `faker` package, generate a fake company name."
   ]
  },
  {
   "cell_type": "code",
   "execution_count": 25,
   "metadata": {},
   "outputs": [
    {
     "data": {
      "text/plain": [
       "'Jones Inc'"
      ]
     },
     "execution_count": 25,
     "metadata": {},
     "output_type": "execute_result"
    }
   ],
   "source": [
    "# Put your code for Question 3.2.4 here\n",
    "fake.company()"
   ]
  },
  {
   "cell_type": "markdown",
   "metadata": {},
   "source": [
    "&#9989; **Question 3.2.5 (1 point)**: Using the `faker` package, generate a fake date."
   ]
  },
  {
   "cell_type": "code",
   "execution_count": 26,
   "metadata": {},
   "outputs": [
    {
     "data": {
      "text/plain": [
       "'1975-05-26'"
      ]
     },
     "execution_count": 26,
     "metadata": {},
     "output_type": "execute_result"
    }
   ],
   "source": [
    "# Put your code for Question 3.2.5 here\n",
    "fake.date()"
   ]
  },
  {
   "cell_type": "markdown",
   "metadata": {},
   "source": [
    "&#9989; **Question 3.3 (6 points)**: Now that you've had a bit of practice with the `faker` package, let's make a fake database. Create a `Pandas` `DataFrame` with 100 rows and the columns `\"Name\"`, `\"Date of Birth\"`, `\"Address\"`, `\"Email\"`, and `\"Employer\"`. Then, populate the rows with fake data that is appropriate for the column (so the `\"Name\"` column should look like a name, the `\"Date of Birth\"` column should look like a date, etc. Don't worry if some of the fake people you generate are too old/young to be employed). Finally, display the `DataFrame`."
   ]
  },
  {
   "cell_type": "code",
   "execution_count": 45,
   "metadata": {},
   "outputs": [],
   "source": [
    "# Put your code for Question 3.3 here\n",
    "data = []\n",
    "def create_rows_faker(num=100):\n",
    "    for i in range(num):\n",
    "        output = [{\"Name\":fake.name(),\n",
    "                   \"Date of Birth\":fake.date(),\n",
    "                    \"Address\":fake.address(),\n",
    "                    \"Email\":fake.email(),\n",
    "                    \"Employer\":fake.company(),}]\n",
    "        data.append(output)\n",
    "create_rows_faker()\n",
    "df_faker = pd.DataFrame\n",
    " \n",
    "df_faker = pd.DataFrame(data)"
   ]
  },
  {
   "cell_type": "code",
   "execution_count": 46,
   "metadata": {},
   "outputs": [
    {
     "data": {
      "text/html": [
       "<div>\n",
       "<style scoped>\n",
       "    .dataframe tbody tr th:only-of-type {\n",
       "        vertical-align: middle;\n",
       "    }\n",
       "\n",
       "    .dataframe tbody tr th {\n",
       "        vertical-align: top;\n",
       "    }\n",
       "\n",
       "    .dataframe thead th {\n",
       "        text-align: right;\n",
       "    }\n",
       "</style>\n",
       "<table border=\"1\" class=\"dataframe\">\n",
       "  <thead>\n",
       "    <tr style=\"text-align: right;\">\n",
       "      <th></th>\n",
       "      <th>0</th>\n",
       "    </tr>\n",
       "  </thead>\n",
       "  <tbody>\n",
       "    <tr>\n",
       "      <th>0</th>\n",
       "      <td>{'Name': 'John Mathis', 'Date of Birth': '2018...</td>\n",
       "    </tr>\n",
       "    <tr>\n",
       "      <th>1</th>\n",
       "      <td>{'Name': 'Emma Ramirez', 'Date of Birth': '200...</td>\n",
       "    </tr>\n",
       "    <tr>\n",
       "      <th>2</th>\n",
       "      <td>{'Name': 'Jacob Williams', 'Date of Birth': '1...</td>\n",
       "    </tr>\n",
       "    <tr>\n",
       "      <th>3</th>\n",
       "      <td>{'Name': 'Steven Taylor', 'Date of Birth': '19...</td>\n",
       "    </tr>\n",
       "    <tr>\n",
       "      <th>4</th>\n",
       "      <td>{'Name': 'Kathy Flores', 'Date of Birth': '198...</td>\n",
       "    </tr>\n",
       "    <tr>\n",
       "      <th>...</th>\n",
       "      <td>...</td>\n",
       "    </tr>\n",
       "    <tr>\n",
       "      <th>95</th>\n",
       "      <td>{'Name': 'Scott Haley', 'Date of Birth': '1988...</td>\n",
       "    </tr>\n",
       "    <tr>\n",
       "      <th>96</th>\n",
       "      <td>{'Name': 'Stephanie Nelson', 'Date of Birth': ...</td>\n",
       "    </tr>\n",
       "    <tr>\n",
       "      <th>97</th>\n",
       "      <td>{'Name': 'Heather May', 'Date of Birth': '2014...</td>\n",
       "    </tr>\n",
       "    <tr>\n",
       "      <th>98</th>\n",
       "      <td>{'Name': 'Eric Hall', 'Date of Birth': '2012-0...</td>\n",
       "    </tr>\n",
       "    <tr>\n",
       "      <th>99</th>\n",
       "      <td>{'Name': 'Steven Sanchez', 'Date of Birth': '1...</td>\n",
       "    </tr>\n",
       "  </tbody>\n",
       "</table>\n",
       "<p>100 rows × 1 columns</p>\n",
       "</div>"
      ],
      "text/plain": [
       "                                                    0\n",
       "0   {'Name': 'John Mathis', 'Date of Birth': '2018...\n",
       "1   {'Name': 'Emma Ramirez', 'Date of Birth': '200...\n",
       "2   {'Name': 'Jacob Williams', 'Date of Birth': '1...\n",
       "3   {'Name': 'Steven Taylor', 'Date of Birth': '19...\n",
       "4   {'Name': 'Kathy Flores', 'Date of Birth': '198...\n",
       "..                                                ...\n",
       "95  {'Name': 'Scott Haley', 'Date of Birth': '1988...\n",
       "96  {'Name': 'Stephanie Nelson', 'Date of Birth': ...\n",
       "97  {'Name': 'Heather May', 'Date of Birth': '2014...\n",
       "98  {'Name': 'Eric Hall', 'Date of Birth': '2012-0...\n",
       "99  {'Name': 'Steven Sanchez', 'Date of Birth': '1...\n",
       "\n",
       "[100 rows x 1 columns]"
      ]
     },
     "execution_count": 46,
     "metadata": {},
     "output_type": "execute_result"
    }
   ],
   "source": [
    "df_faker"
   ]
  },
  {
   "cell_type": "markdown",
   "metadata": {},
   "source": [
    "&#9989; **Question 3.4 (3 points)**: Now, create a new `Faker()` object with a non-English locale, and repeat the steps of Question 3.3 but with this `Faker()` object, i.e. generate fake name, address, email, employer, and date-of-birth data for 100 people. Your fake database for this question should look like it contains data for people from a non-English speaking country. You can leave the column headers in English though."
   ]
  },
  {
   "cell_type": "code",
   "execution_count": null,
   "metadata": {},
   "outputs": [],
   "source": [
    "# Put your code for Question 3.4 here"
   ]
  },
  {
   "cell_type": "markdown",
   "metadata": {},
   "source": [
    "---\n",
    "### &#128721; STOP\n",
    "**Pause to commit your changes to your Git repository!**\n",
    "\n",
    "Take a moment to save your notebook, commit the changes to your Git repository using the commit message \"**Committing Part 3**\", and push the changes to GitHub.\n",
    "\n",
    "---"
   ]
  },
  {
   "cell_type": "markdown",
   "metadata": {},
   "source": [
    "---\n",
    "## Part 4: Writing and using Python classes (27 points)"
   ]
  },
  {
   "cell_type": "markdown",
   "metadata": {},
   "source": [
    "In this part of the exam, you will practice using object-oriented programming (OOP) to write code that could be used as part of a role-playing game (RPG). Obviously, we won't be able to build an interesting RPG during the limited time of this exam. However, we can write some fairly generic code that could be used to (1) keep track of the amount of coins and items a player has, and (2) allow players to buy and sell items to each other. \n",
    "\n",
    "&#9989; **Do This**: To get started, run the code cell below, but **DO NOT modify it.**"
   ]
  },
  {
   "cell_type": "code",
   "execution_count": null,
   "metadata": {},
   "outputs": [],
   "source": [
    "### RUN THIS CELL, BUT DO NOT MODIFY IT\n",
    "### RUN THIS CELL, BUT DO NOT MODIFY IT\n",
    "class Player:\n",
    "    '''\n",
    "    Class for a player in a role playing game. Keeps track of coins and items a Player has.\n",
    "    name: string containing the Player's name\n",
    "    coins: number of coins the Player has\n",
    "    inventory: dictionary whose keys are strings representing items \n",
    "        and values are the number of each item the Player has\n",
    "        e.g. {\"potion\": 2, \"sword\": 1} would mean the Player has 2 potions and 1 sword\n",
    "    '''\n",
    "    \n",
    "    def __init__(self,name,coins=0):\n",
    "        '''\n",
    "        Creates a new Player object with a name, a number of coins (default 0), and an empty inventory\n",
    "        '''\n",
    "        self.name = name\n",
    "        self.coins = coins\n",
    "        self.inventory = {}\n",
    "        \n",
    "    def add_coins(self,amount):\n",
    "        '''\n",
    "        To be used when the Player finds some amount of coins in the game\n",
    "        Increase the number of coins the Player has by amount     \n",
    "        '''\n",
    "        self.coins += amount\n",
    "        \n",
    "    def add_items(self,item,quantity=1):\n",
    "        '''\n",
    "        To be used when the Player finds some quantity of an item in the game\n",
    "        Add some quantity (default 1) of an item to the Player's inventory\n",
    "        '''\n",
    "        if item not in self.inventory:\n",
    "            self.inventory[item] = 0\n",
    "        self.inventory[item] += quantity\n",
    "    \n",
    "    def can_afford(self,amount):\n",
    "        '''\n",
    "        Check if Player can make afford to make a purchase for an amount of coins\n",
    "        Will be called by MarketPlace before Player can buy items\n",
    "        '''\n",
    "        return self.coins >= amount\n",
    "    \n",
    "    def has_items(self,item,quantity=1):\n",
    "        '''\n",
    "        Check if Player has at least some quantity of a specified item\n",
    "        Will be called by MarketPlace before Player can sell items\n",
    "        '''\n",
    "        if item not in self.inventory:\n",
    "            return False\n",
    "        else:\n",
    "            return self.inventory[item] >= quantity\n",
    "    \n",
    "    def buy_items(self,item,price,quantity=1):\n",
    "        '''\n",
    "        To be used when the Player wants to buy some quantity of an item\n",
    "        Add specified quantity of item to the Player's inventory and reduce the Player's amount of coins\n",
    "        Assumes Player can afford to buy the item(s)\n",
    "        '''\n",
    "        if item not in self.inventory:\n",
    "            self.inventory[item] = 0\n",
    "        self.inventory[item] += quantity\n",
    "        self.coins -= price*quantity\n",
    "        \n",
    "    def sell_items(self,item,price,quantity=1):\n",
    "        '''\n",
    "        To be used when the Player wants to sell some quantity of an item\n",
    "        Remove specified quantity of item from the Player's inventory and increase the Player's amount of coins\n",
    "        Assumes Player has the item(s) to sell\n",
    "        '''\n",
    "        self.inventory[item] -= quantity\n",
    "        self.coins += price*quantity\n",
    "### RUN THIS CELL, BUT DO NOT MODIFY IT\n",
    "### RUN THIS CELL, BUT DO NOT MODIFY IT"
   ]
  },
  {
   "cell_type": "markdown",
   "metadata": {},
   "source": [
    "&#9989; **Question 4.1 (7 points)**: **Do this**: The cell above contains a `Player` class that can be used to keep track of the amount of coins and items that a player has. Read the docstrings in the above code to get a sense of how it works. Then, to verify that this class works as intended, use the `Player` class methods to do the following in order in the cell below: \n",
    "\n",
    "1. Create a Player object for yourself. Its name attribute should be your name, and you should start with 100 coins. \n",
    "\n",
    "2. Add three \"potion\"s to your inventory\n",
    "\n",
    "3. Add one \"shield\" to your inventory\n",
    "\n",
    "4. Print your coins and inventory attributes\n",
    "\n",
    "5. Buy one \"sword\" for 50 coins (checking if you can afford it is not necessary)\n",
    "\n",
    "6. Sell two \"potion\"s for 10 coins each (checking if you have at least two \"potion\"s is not necessary)\n",
    "\n",
    "7. Print your coins and inventory attributes"
   ]
  },
  {
   "cell_type": "code",
   "execution_count": null,
   "metadata": {},
   "outputs": [],
   "source": [
    "# Put your code for Question 4.1 here"
   ]
  },
  {
   "cell_type": "markdown",
   "metadata": {},
   "source": [
    "If everything worked, you should have 100 coins, 3 potions, and 1 shield when you print your coins and inventory for the first time, and you should have 70 coins, 1 potion, 1 shield, and 1 sword when you print your coins and inventory for the second time."
   ]
  },
  {
   "cell_type": "markdown",
   "metadata": {},
   "source": [
    "&#9989; **Question 4.2 (20 points)**: Next, we will create a `MarketPlace` Class to keep track of `Player`s and handle transactions. This class will have a dictionary whose keys are the strings with `Player` names and whose values are the `Player` objects.  \n",
    "\n",
    "\n",
    "**Do this**: Write code for the `MarketPlace` class by following the directions. \n",
    "\n",
    "* Create an `__init__()` method which has just the one argument all class methods have. The `__init__()` method should create a `players` attribute which should be initialized as an **empty Python dictionary**.\n",
    "\n",
    "\n",
    "* Create an `add_player()` method which has the argument all class methods have and an argument called `player` which will contain a `Player` object. It should add a new key-value pair to the `players` attribute. The key should be the `name` attribute of the `Player` object. The value should be the `Player` object itself.\n",
    "\n",
    "\n",
    "* Create a `disp_status()` method which has just the one argument all class methods have. The `disp_status()` method should iterate through all the `Player` objects in the `players` dictionary and do the following\n",
    "    * Print a statement of the form `\"[name] has [coins] coins and the following items:\"` where [name] should be replaced by the `Player` object's `name` attribute and [coins] should be replaced by the `Player` object's `coins` attribute\n",
    "    * Print the `Player` object's `inventory` attribute\n",
    "    \n",
    "\n",
    "* Create a `transaction()` method which has the argument all class methods have as well as the arguments `buyer_name` (string), `seller_name` (string), `item`, `price`, and `quantity` in that order. The goal of the transaction method is for the buyer to purchase a specified quantity of an item at the specified price per item. The `transaction()` method should do the following:\n",
    "    * Check if the buyer can afford the purchase (i.e. has at least `quantity*price` coins) using the buyer `Player` object's `can_afford()` method\n",
    "    * Check if the seller has at least `quantity` of the `item` using the seller `Player` object's `has_items()` method\n",
    "    * If both conditions are met, use the buyer `Player` object's `buy_items()` method and the seller `Player` object's `sell_items()` method to execute the transaction\n",
    "    * If either condition is not met, display the message `\"Error: Transaction cannot be completed\"`.\n",
    "    \n",
    "\n",
    "This may seem intimidating at first, but don't panic. The cell below the cell for the `MarketPlace` Class code has code that can be used to test out your `MarketPlace` Class code. I recommend first creating stub functions for the methods. Then, you can write the methods in the order above and test them out one at a time. Of course, you can work on this question however you'd like.\n",
    "\n",
    "Also, feel free to refer back to the `Zoo.py` file from the Day-07 ICA if you need help figuring out how to store names and objects in a dictionary."
   ]
  },
  {
   "cell_type": "code",
   "execution_count": null,
   "metadata": {},
   "outputs": [],
   "source": [
    "# Put your MarketPlace Class code here"
   ]
  },
  {
   "cell_type": "markdown",
   "metadata": {},
   "source": [
    "&#9989; **Do this**: Run the cell below to test out your code, but **DO NOT modify it.** If you want to run other tests, feel free to add a new cell and write some code for testing there."
   ]
  },
  {
   "cell_type": "code",
   "execution_count": null,
   "metadata": {},
   "outputs": [],
   "source": [
    "### RUN THIS CELL, BUT DO NOT MODIFY IT\n",
    "### RUN THIS CELL, BUT DO NOT MODIFY IT\n",
    "# Create Alice and give her 100 coins and 2 swords\n",
    "alice = Player(\"Alice\",100)\n",
    "alice.add_items(\"sword\",2)\n",
    "# Create Bob and give him 100 coins, 3 potions and 1 shield\n",
    "bob = Player(\"Bob\",100)\n",
    "bob.add_items(\"potion\",3)\n",
    "bob.add_items(\"shield\",1)\n",
    "# Create a new MarketPlace and print the empty players dictionary\n",
    "market = MarketPlace()\n",
    "print(market.players)\n",
    "\n",
    "# Add Alice and Bob to the MarketPlace and print the players dictionary\n",
    "market.add_player(alice)\n",
    "market.add_player(bob)\n",
    "print(market.players)\n",
    "\n",
    "# Display the status of the MarketPlace\n",
    "market.disp_status()\n",
    "\n",
    "# Have Alice buy 2 potions from Bob for 10 coins each\n",
    "market.transaction(\"Alice\",\"Bob\",\"potion\",10,2)\n",
    "market.disp_status()\n",
    "\n",
    "# Have Bob attempt and fail to buy a shield from Alice (since she doesn't have a shield)\n",
    "market.transaction(\"Bob\",\"Alice\",\"shield\",20,1)\n",
    "market.disp_status()\n",
    "\n",
    "# Have Bob attempt and fail to buy 3 swords from Alice (since she has only two swords)\n",
    "market.transaction(\"Bob\",\"Alice\",\"sword\",20,3)\n",
    "market.disp_status()\n",
    "\n",
    "# Have Bob attempt and fail to buy 1 sword from Alice for 200 coins (since Bob doesn't have enough coins)\n",
    "market.transaction(\"Bob\",\"Alice\",\"sword\",200,1)\n",
    "market.disp_status()\n",
    "\n",
    "# Have Bob buy 1 sword from Alice for 50 coins\n",
    "market.transaction(\"Bob\",\"Alice\",\"sword\",50,1)\n",
    "market.disp_status()\n",
    "### RUN THIS CELL, BUT DO NOT MODIFY IT\n",
    "### RUN THIS CELL, BUT DO NOT MODIFY IT"
   ]
  },
  {
   "cell_type": "markdown",
   "metadata": {},
   "source": [
    "If everything worked correctly, Alice should end with 130 coins, 1 sword, and 2 potions, while Bob should end up with 70 coins, 1 potion, 1 shield, and 1 sword."
   ]
  },
  {
   "cell_type": "markdown",
   "metadata": {},
   "source": [
    "---\n",
    "### &#128721; STOP\n",
    "**Pause to commit your changes to your Git repository!**\n",
    "\n",
    "Take a moment to save your notebook, commit the changes to your Git repository using the commit message \"**Committing Part 4**\", and push the changes to GitHub.\n",
    "\n",
    "---"
   ]
  },
  {
   "cell_type": "markdown",
   "metadata": {},
   "source": [
    "## You're done! Congrats on finishing your CMSE 202 Midterm!\n",
    "\n",
    "Make sure all of your changes to your repository are committed and pushed to GitHub. Also upload a copy of this notebook to the dropbox on D2L in case something went wrong with your repository or if you couldn't get the repository to work."
   ]
  }
 ],
 "metadata": {
  "kernelspec": {
   "display_name": "Python 3.11 (default)",
   "language": "python",
   "name": "python3"
  },
  "language_info": {
   "codemirror_mode": {
    "name": "ipython",
    "version": 3
   },
   "file_extension": ".py",
   "mimetype": "text/x-python",
   "name": "python",
   "nbconvert_exporter": "python",
   "pygments_lexer": "ipython3",
   "version": "3.11.6"
  }
 },
 "nbformat": 4,
 "nbformat_minor": 4
}
